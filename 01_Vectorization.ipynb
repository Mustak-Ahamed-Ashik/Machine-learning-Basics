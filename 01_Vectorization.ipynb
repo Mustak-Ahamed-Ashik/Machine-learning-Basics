{
  "nbformat": 4,
  "nbformat_minor": 0,
  "metadata": {
    "colab": {
      "name": "01_Vectorization.ipynb",
      "provenance": [],
      "collapsed_sections": [],
      "authorship_tag": "ABX9TyNbxDStGN6+EtuUpwexBLck",
      "include_colab_link": true
    },
    "kernelspec": {
      "name": "python3",
      "display_name": "Python 3"
    },
    "language_info": {
      "name": "python"
    }
  },
  "cells": [
    {
      "cell_type": "markdown",
      "metadata": {
        "id": "view-in-github",
        "colab_type": "text"
      },
      "source": [
        "<a href=\"https://colab.research.google.com/github/Mustak-Ahamed-Ashik/Machine-learning-Basics/blob/main/01_Vectorization.ipynb\" target=\"_parent\"><img src=\"https://colab.research.google.com/assets/colab-badge.svg\" alt=\"Open In Colab\"/></a>"
      ]
    },
    {
      "cell_type": "code",
      "metadata": {
        "id": "XkvXOhP8K9rd"
      },
      "source": [
        "import numpy as np"
      ],
      "execution_count": 1,
      "outputs": []
    },
    {
      "cell_type": "code",
      "metadata": {
        "id": "BpEVc07LLFEb"
      },
      "source": [
        "A=np.array([[23.0, 34.2, 45.0, 12.4],\n",
        "            [43.2, 23.4, 54.6, 12.8],\n",
        "            [34.3, 34.6, 34.9, 21.2]])"
      ],
      "execution_count": 3,
      "outputs": []
    },
    {
      "cell_type": "code",
      "metadata": {
        "colab": {
          "base_uri": "https://localhost:8080/"
        },
        "id": "dMThnWjUMHZM",
        "outputId": "83a4c153-4ed6-491d-d3ff-09a037218e09"
      },
      "source": [
        "print(A)"
      ],
      "execution_count": 4,
      "outputs": [
        {
          "output_type": "stream",
          "text": [
            "[[23.  34.2 45.  12.4]\n",
            " [43.2 23.4 54.6 12.8]\n",
            " [34.3 34.6 34.9 21.2]]\n"
          ],
          "name": "stdout"
        }
      ]
    },
    {
      "cell_type": "code",
      "metadata": {
        "colab": {
          "base_uri": "https://localhost:8080/"
        },
        "id": "Wyu0rh-GMYzb",
        "outputId": "3b6eb7fd-c507-4a89-cbf9-f76bc060af9c"
      },
      "source": [
        "cal=A.sum(axis=0)\n",
        "print(cal)"
      ],
      "execution_count": 9,
      "outputs": [
        {
          "output_type": "stream",
          "text": [
            "[100.5  92.2 134.5  46.4]\n"
          ],
          "name": "stdout"
        }
      ]
    },
    {
      "cell_type": "code",
      "metadata": {
        "colab": {
          "base_uri": "https://localhost:8080/"
        },
        "id": "OQEdNajXMmb7",
        "outputId": "50769069-c4f5-41df-a764-45c6d80659d2"
      },
      "source": [
        "percentage=100*A/cal.reshape(1,4)\n",
        "print(percentage)"
      ],
      "execution_count": 11,
      "outputs": [
        {
          "output_type": "stream",
          "text": [
            "[[22.88557214 37.09327549 33.45724907 26.72413793]\n",
            " [42.98507463 25.37960954 40.59479554 27.5862069 ]\n",
            " [34.12935323 37.52711497 25.94795539 45.68965517]]\n"
          ],
          "name": "stdout"
        }
      ]
    },
    {
      "cell_type": "code",
      "metadata": {
        "id": "zIo8pEwDNJLq"
      },
      "source": [
        ""
      ],
      "execution_count": null,
      "outputs": []
    }
  ]
}